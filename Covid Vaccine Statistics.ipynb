{
 "cells": [
  {
   "cell_type": "code",
   "execution_count": 12,
   "metadata": {},
   "outputs": [],
   "source": [
    "import pandas as pd\n",
    "pd.set_option('display.float_format','{:2f}'.format)\n",
    "df=pd.read_csv(\"covid vaccines.csv\")"
   ]
  },
  {
   "cell_type": "code",
   "execution_count": 13,
   "metadata": {},
   "outputs": [
    {
     "data": {
      "text/plain": [
       "Index(['iso_code', 'continent', 'location', 'population', 'date', 'new_tests',\n",
       "       'total_tests', 'total_tests_per_thousand', 'new_tests_per_thousand',\n",
       "       'new_tests_smoothed', 'new_tests_smoothed_per_thousand',\n",
       "       'positive_rate', 'tests_per_case', 'tests_units', 'total_vaccinations',\n",
       "       'people_vaccinated', 'people_fully_vaccinated', 'new_vaccinations',\n",
       "       'new_vaccinations_smoothed', 'total_vaccinations_per_hundred',\n",
       "       'people_vaccinated_per_hundred', 'people_fully_vaccinated_per_hundred',\n",
       "       'new_vaccinations_smoothed_per_million', 'stringency_index',\n",
       "       'population_density', 'median_age', 'aged_65_older', 'aged_70_older',\n",
       "       'gdp_per_capita', 'extreme_poverty', 'cardiovasc_death_rate',\n",
       "       'diabetes_prevalence', 'female_smokers', 'male_smokers',\n",
       "       'handwashing_facilities', 'hospital_beds_per_thousand',\n",
       "       'life_expectancy', 'human_development_index', 'excess_mortality'],\n",
       "      dtype='object')"
      ]
     },
     "execution_count": 13,
     "metadata": {},
     "output_type": "execute_result"
    }
   ],
   "source": [
    "df.columns"
   ]
  },
  {
   "cell_type": "code",
   "execution_count": 14,
   "metadata": {},
   "outputs": [],
   "source": [
    "df=pd.read_csv('covid vaccines.csv',usecols=['date','continent','location','population','people_vaccinated'])"
   ]
  },
  {
   "cell_type": "code",
   "execution_count": 15,
   "metadata": {},
   "outputs": [
    {
     "data": {
      "text/plain": [
       "continent             4903\n",
       "location                 0\n",
       "population             702\n",
       "date                     0\n",
       "people_vaccinated    86758\n",
       "dtype: int64"
      ]
     },
     "execution_count": 15,
     "metadata": {},
     "output_type": "execute_result"
    }
   ],
   "source": [
    "df.isna().sum()"
   ]
  },
  {
   "cell_type": "code",
   "execution_count": 16,
   "metadata": {},
   "outputs": [],
   "source": [
    "df.drop(df[df.population.isna() | df.continent.isna()].index.tolist(),inplace=True)"
   ]
  },
  {
   "cell_type": "code",
   "execution_count": 17,
   "metadata": {},
   "outputs": [
    {
     "data": {
      "text/plain": [
       "continent                0\n",
       "location                 0\n",
       "population               0\n",
       "date                     0\n",
       "people_vaccinated    83425\n",
       "dtype: int64"
      ]
     },
     "execution_count": 17,
     "metadata": {},
     "output_type": "execute_result"
    }
   ],
   "source": [
    "df.isna().sum()"
   ]
  },
  {
   "cell_type": "code",
   "execution_count": 18,
   "metadata": {},
   "outputs": [
    {
     "data": {
      "text/html": [
       "<div>\n",
       "<style scoped>\n",
       "    .dataframe tbody tr th:only-of-type {\n",
       "        vertical-align: middle;\n",
       "    }\n",
       "\n",
       "    .dataframe tbody tr th {\n",
       "        vertical-align: top;\n",
       "    }\n",
       "\n",
       "    .dataframe thead th {\n",
       "        text-align: right;\n",
       "    }\n",
       "</style>\n",
       "<table border=\"1\" class=\"dataframe\">\n",
       "  <thead>\n",
       "    <tr style=\"text-align: right;\">\n",
       "      <th></th>\n",
       "      <th>continent</th>\n",
       "      <th>location</th>\n",
       "      <th>population</th>\n",
       "      <th>date</th>\n",
       "      <th>people_vaccinated</th>\n",
       "    </tr>\n",
       "  </thead>\n",
       "  <tbody>\n",
       "    <tr>\n",
       "      <th>0</th>\n",
       "      <td>Asia</td>\n",
       "      <td>Afghanistan</td>\n",
       "      <td>38928341.000000</td>\n",
       "      <td>24-02-2020</td>\n",
       "      <td>0.000000</td>\n",
       "    </tr>\n",
       "    <tr>\n",
       "      <th>1</th>\n",
       "      <td>Asia</td>\n",
       "      <td>Afghanistan</td>\n",
       "      <td>38928341.000000</td>\n",
       "      <td>25-02-2020</td>\n",
       "      <td>0.000000</td>\n",
       "    </tr>\n",
       "    <tr>\n",
       "      <th>2</th>\n",
       "      <td>Asia</td>\n",
       "      <td>Afghanistan</td>\n",
       "      <td>38928341.000000</td>\n",
       "      <td>26-02-2020</td>\n",
       "      <td>0.000000</td>\n",
       "    </tr>\n",
       "    <tr>\n",
       "      <th>3</th>\n",
       "      <td>Asia</td>\n",
       "      <td>Afghanistan</td>\n",
       "      <td>38928341.000000</td>\n",
       "      <td>27-02-2020</td>\n",
       "      <td>0.000000</td>\n",
       "    </tr>\n",
       "    <tr>\n",
       "      <th>4</th>\n",
       "      <td>Asia</td>\n",
       "      <td>Afghanistan</td>\n",
       "      <td>38928341.000000</td>\n",
       "      <td>28-02-2020</td>\n",
       "      <td>0.000000</td>\n",
       "    </tr>\n",
       "    <tr>\n",
       "      <th>...</th>\n",
       "      <td>...</td>\n",
       "      <td>...</td>\n",
       "      <td>...</td>\n",
       "      <td>...</td>\n",
       "      <td>...</td>\n",
       "    </tr>\n",
       "    <tr>\n",
       "      <th>100434</th>\n",
       "      <td>Africa</td>\n",
       "      <td>Zimbabwe</td>\n",
       "      <td>14862927.000000</td>\n",
       "      <td>23-07-2021</td>\n",
       "      <td>1400905.000000</td>\n",
       "    </tr>\n",
       "    <tr>\n",
       "      <th>100435</th>\n",
       "      <td>Africa</td>\n",
       "      <td>Zimbabwe</td>\n",
       "      <td>14862927.000000</td>\n",
       "      <td>24-07-2021</td>\n",
       "      <td>1438890.000000</td>\n",
       "    </tr>\n",
       "    <tr>\n",
       "      <th>100436</th>\n",
       "      <td>Africa</td>\n",
       "      <td>Zimbabwe</td>\n",
       "      <td>14862927.000000</td>\n",
       "      <td>25-07-2021</td>\n",
       "      <td>1447342.000000</td>\n",
       "    </tr>\n",
       "    <tr>\n",
       "      <th>100437</th>\n",
       "      <td>Africa</td>\n",
       "      <td>Zimbabwe</td>\n",
       "      <td>14862927.000000</td>\n",
       "      <td>26-07-2021</td>\n",
       "      <td>1491493.000000</td>\n",
       "    </tr>\n",
       "    <tr>\n",
       "      <th>100438</th>\n",
       "      <td>Africa</td>\n",
       "      <td>Zimbabwe</td>\n",
       "      <td>14862927.000000</td>\n",
       "      <td>27-07-2021</td>\n",
       "      <td>0.000000</td>\n",
       "    </tr>\n",
       "  </tbody>\n",
       "</table>\n",
       "<p>100439 rows × 5 columns</p>\n",
       "</div>"
      ],
      "text/plain": [
       "       continent     location      population        date  people_vaccinated\n",
       "0           Asia  Afghanistan 38928341.000000  24-02-2020           0.000000\n",
       "1           Asia  Afghanistan 38928341.000000  25-02-2020           0.000000\n",
       "2           Asia  Afghanistan 38928341.000000  26-02-2020           0.000000\n",
       "3           Asia  Afghanistan 38928341.000000  27-02-2020           0.000000\n",
       "4           Asia  Afghanistan 38928341.000000  28-02-2020           0.000000\n",
       "...          ...          ...             ...         ...                ...\n",
       "100434    Africa     Zimbabwe 14862927.000000  23-07-2021     1400905.000000\n",
       "100435    Africa     Zimbabwe 14862927.000000  24-07-2021     1438890.000000\n",
       "100436    Africa     Zimbabwe 14862927.000000  25-07-2021     1447342.000000\n",
       "100437    Africa     Zimbabwe 14862927.000000  26-07-2021     1491493.000000\n",
       "100438    Africa     Zimbabwe 14862927.000000  27-07-2021           0.000000\n",
       "\n",
       "[100439 rows x 5 columns]"
      ]
     },
     "execution_count": 18,
     "metadata": {},
     "output_type": "execute_result"
    }
   ],
   "source": [
    "df.fillna(0,inplace=True)\n",
    "df.reset_index(drop=True,inplace=True)\n",
    "df"
   ]
  },
  {
   "cell_type": "code",
   "execution_count": 19,
   "metadata": {},
   "outputs": [],
   "source": [
    "perc_pop_vaccinated=df.groupby('location',as_index=False)[['population','people_vaccinated']].max()"
   ]
  },
  {
   "cell_type": "code",
   "execution_count": 20,
   "metadata": {},
   "outputs": [],
   "source": [
    "perc_pop_vaccinated['percent_people_vaccinated']=((perc_pop_vaccinated['people_vaccinated']/perc_pop_vaccinated['population'])*100)"
   ]
  },
  {
   "cell_type": "code",
   "execution_count": 21,
   "metadata": {},
   "outputs": [
    {
     "data": {
      "text/html": [
       "<div>\n",
       "<style scoped>\n",
       "    .dataframe tbody tr th:only-of-type {\n",
       "        vertical-align: middle;\n",
       "    }\n",
       "\n",
       "    .dataframe tbody tr th {\n",
       "        vertical-align: top;\n",
       "    }\n",
       "\n",
       "    .dataframe thead th {\n",
       "        text-align: right;\n",
       "    }\n",
       "</style>\n",
       "<table border=\"1\" class=\"dataframe\">\n",
       "  <thead>\n",
       "    <tr style=\"text-align: right;\">\n",
       "      <th></th>\n",
       "      <th>location</th>\n",
       "      <th>population</th>\n",
       "      <th>people_vaccinated</th>\n",
       "      <th>percent_people_vaccinated</th>\n",
       "    </tr>\n",
       "  </thead>\n",
       "  <tbody>\n",
       "    <tr>\n",
       "      <th>0</th>\n",
       "      <td>Afghanistan</td>\n",
       "      <td>38928341.000000</td>\n",
       "      <td>861336.000000</td>\n",
       "      <td>2.212619</td>\n",
       "    </tr>\n",
       "    <tr>\n",
       "      <th>1</th>\n",
       "      <td>Albania</td>\n",
       "      <td>2877800.000000</td>\n",
       "      <td>640047.000000</td>\n",
       "      <td>22.240844</td>\n",
       "    </tr>\n",
       "    <tr>\n",
       "      <th>2</th>\n",
       "      <td>Algeria</td>\n",
       "      <td>43851043.000000</td>\n",
       "      <td>75000.000000</td>\n",
       "      <td>0.171034</td>\n",
       "    </tr>\n",
       "    <tr>\n",
       "      <th>3</th>\n",
       "      <td>Andorra</td>\n",
       "      <td>77265.000000</td>\n",
       "      <td>48445.000000</td>\n",
       "      <td>62.699799</td>\n",
       "    </tr>\n",
       "    <tr>\n",
       "      <th>4</th>\n",
       "      <td>Angola</td>\n",
       "      <td>32866268.000000</td>\n",
       "      <td>958373.000000</td>\n",
       "      <td>2.915978</td>\n",
       "    </tr>\n",
       "    <tr>\n",
       "      <th>...</th>\n",
       "      <td>...</td>\n",
       "      <td>...</td>\n",
       "      <td>...</td>\n",
       "      <td>...</td>\n",
       "    </tr>\n",
       "    <tr>\n",
       "      <th>216</th>\n",
       "      <td>Vietnam</td>\n",
       "      <td>97338583.000000</td>\n",
       "      <td>4562339.000000</td>\n",
       "      <td>4.687082</td>\n",
       "    </tr>\n",
       "    <tr>\n",
       "      <th>217</th>\n",
       "      <td>Wallis and Futuna</td>\n",
       "      <td>11246.000000</td>\n",
       "      <td>4629.000000</td>\n",
       "      <td>41.161302</td>\n",
       "    </tr>\n",
       "    <tr>\n",
       "      <th>218</th>\n",
       "      <td>Yemen</td>\n",
       "      <td>29825968.000000</td>\n",
       "      <td>288828.000000</td>\n",
       "      <td>0.968378</td>\n",
       "    </tr>\n",
       "    <tr>\n",
       "      <th>219</th>\n",
       "      <td>Zambia</td>\n",
       "      <td>18383956.000000</td>\n",
       "      <td>269762.000000</td>\n",
       "      <td>1.467377</td>\n",
       "    </tr>\n",
       "    <tr>\n",
       "      <th>220</th>\n",
       "      <td>Zimbabwe</td>\n",
       "      <td>14862927.000000</td>\n",
       "      <td>1491493.000000</td>\n",
       "      <td>10.034988</td>\n",
       "    </tr>\n",
       "  </tbody>\n",
       "</table>\n",
       "<p>221 rows × 4 columns</p>\n",
       "</div>"
      ],
      "text/plain": [
       "              location      population  people_vaccinated  \\\n",
       "0          Afghanistan 38928341.000000      861336.000000   \n",
       "1              Albania  2877800.000000      640047.000000   \n",
       "2              Algeria 43851043.000000       75000.000000   \n",
       "3              Andorra    77265.000000       48445.000000   \n",
       "4               Angola 32866268.000000      958373.000000   \n",
       "..                 ...             ...                ...   \n",
       "216            Vietnam 97338583.000000     4562339.000000   \n",
       "217  Wallis and Futuna    11246.000000        4629.000000   \n",
       "218              Yemen 29825968.000000      288828.000000   \n",
       "219             Zambia 18383956.000000      269762.000000   \n",
       "220           Zimbabwe 14862927.000000     1491493.000000   \n",
       "\n",
       "     percent_people_vaccinated  \n",
       "0                     2.212619  \n",
       "1                    22.240844  \n",
       "2                     0.171034  \n",
       "3                    62.699799  \n",
       "4                     2.915978  \n",
       "..                         ...  \n",
       "216                   4.687082  \n",
       "217                  41.161302  \n",
       "218                   0.968378  \n",
       "219                   1.467377  \n",
       "220                  10.034988  \n",
       "\n",
       "[221 rows x 4 columns]"
      ]
     },
     "execution_count": 21,
     "metadata": {},
     "output_type": "execute_result"
    }
   ],
   "source": [
    "perc_pop_vaccinated"
   ]
  },
  {
   "cell_type": "code",
   "execution_count": 22,
   "metadata": {},
   "outputs": [],
   "source": [
    "perc_pop_vaccinated.to_excel('perc_population_vaccinated.xlsx')"
   ]
  },
  {
   "cell_type": "code",
   "execution_count": null,
   "metadata": {},
   "outputs": [],
   "source": []
  },
  {
   "cell_type": "code",
   "execution_count": null,
   "metadata": {},
   "outputs": [],
   "source": []
  },
  {
   "cell_type": "code",
   "execution_count": null,
   "metadata": {},
   "outputs": [],
   "source": []
  },
  {
   "cell_type": "code",
   "execution_count": null,
   "metadata": {},
   "outputs": [],
   "source": []
  }
 ],
 "metadata": {
  "kernelspec": {
   "display_name": "Python 3",
   "language": "python",
   "name": "python3"
  },
  "language_info": {
   "codemirror_mode": {
    "name": "ipython",
    "version": 3
   },
   "file_extension": ".py",
   "mimetype": "text/x-python",
   "name": "python",
   "nbconvert_exporter": "python",
   "pygments_lexer": "ipython3",
   "version": "3.8.5"
  }
 },
 "nbformat": 4,
 "nbformat_minor": 4
}
