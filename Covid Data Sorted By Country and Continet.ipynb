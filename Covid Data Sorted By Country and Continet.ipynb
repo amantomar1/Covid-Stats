{
 "cells": [
  {
   "cell_type": "markdown",
   "metadata": {},
   "source": [
    "# Data Description: \n",
    "        In this jupyter notebook, i will be cleaning,preparing and manipulating the covid statistical data (fetched from the link given below on date 21-07-2021) which consist of 103907 rows and 60 columns.\n",
    "https://ourworldindata.org/explorers/coronavirus-data-explorer?zoomToSelection=true&time=2020-03-01..latest&pickerSort=asc&pickerMetric=location&Metric=Confirmed+cases&Interval=7-day+rolling+average&Relative+to+Population=true&Align+outbreaks=false&country=USA~GBR~CAN~DEU~ITA~IND"
   ]
  },
  {
   "cell_type": "markdown",
   "metadata": {},
   "source": [
    "# What has been done in this?\n",
    "==>Dates Converted From YYYY-MM-DD to YYYY-MM\n",
    "\n",
    "\n",
    "==>Filling of Missing Values(NAN) as 0 since most of them were equal to no incidence occured, and removed continent which was NAN to        remove ambiguos data\n",
    "\n",
    "\n",
    "==>Grouping Data With Date, Continent and Location and saving the files."
   ]
  },
  {
   "cell_type": "code",
   "execution_count": 2,
   "metadata": {},
   "outputs": [],
   "source": [
    "import pandas as pd\n",
    "import numpy as np\n",
    "pd.set_option('display.float_format','{:.2f}'.format) #setting display so we can see all numbers instead of exponentital"
   ]
  },
  {
   "cell_type": "code",
   "execution_count": 3,
   "metadata": {},
   "outputs": [],
   "source": [
    "df=pd.read_csv('C:/Users/Aman Tomar/Desktop/kkk/Porftolio/Covid Data Data Analyst Portfolio/owid-covid-data.csv')"
   ]
  },
  {
   "cell_type": "code",
   "execution_count": 4,
   "metadata": {},
   "outputs": [
    {
     "data": {
      "text/plain": [
       "(103907, 60)"
      ]
     },
     "execution_count": 4,
     "metadata": {},
     "output_type": "execute_result"
    }
   ],
   "source": [
    "df.shape"
   ]
  },
  {
   "cell_type": "code",
   "execution_count": 5,
   "metadata": {},
   "outputs": [
    {
     "data": {
      "text/html": [
       "<div>\n",
       "<style scoped>\n",
       "    .dataframe tbody tr th:only-of-type {\n",
       "        vertical-align: middle;\n",
       "    }\n",
       "\n",
       "    .dataframe tbody tr th {\n",
       "        vertical-align: top;\n",
       "    }\n",
       "\n",
       "    .dataframe thead th {\n",
       "        text-align: right;\n",
       "    }\n",
       "</style>\n",
       "<table border=\"1\" class=\"dataframe\">\n",
       "  <thead>\n",
       "    <tr style=\"text-align: right;\">\n",
       "      <th></th>\n",
       "      <th>iso_code</th>\n",
       "      <th>continent</th>\n",
       "      <th>location</th>\n",
       "      <th>date</th>\n",
       "      <th>total_cases</th>\n",
       "      <th>new_cases</th>\n",
       "      <th>new_cases_smoothed</th>\n",
       "      <th>total_deaths</th>\n",
       "      <th>new_deaths</th>\n",
       "      <th>new_deaths_smoothed</th>\n",
       "      <th>...</th>\n",
       "      <th>extreme_poverty</th>\n",
       "      <th>cardiovasc_death_rate</th>\n",
       "      <th>diabetes_prevalence</th>\n",
       "      <th>female_smokers</th>\n",
       "      <th>male_smokers</th>\n",
       "      <th>handwashing_facilities</th>\n",
       "      <th>hospital_beds_per_thousand</th>\n",
       "      <th>life_expectancy</th>\n",
       "      <th>human_development_index</th>\n",
       "      <th>excess_mortality</th>\n",
       "    </tr>\n",
       "  </thead>\n",
       "  <tbody>\n",
       "    <tr>\n",
       "      <th>0</th>\n",
       "      <td>AFG</td>\n",
       "      <td>Asia</td>\n",
       "      <td>Afghanistan</td>\n",
       "      <td>2020-02-24</td>\n",
       "      <td>1.00</td>\n",
       "      <td>1.00</td>\n",
       "      <td>NaN</td>\n",
       "      <td>NaN</td>\n",
       "      <td>NaN</td>\n",
       "      <td>NaN</td>\n",
       "      <td>...</td>\n",
       "      <td>NaN</td>\n",
       "      <td>597.03</td>\n",
       "      <td>9.59</td>\n",
       "      <td>NaN</td>\n",
       "      <td>NaN</td>\n",
       "      <td>37.75</td>\n",
       "      <td>0.50</td>\n",
       "      <td>64.83</td>\n",
       "      <td>0.51</td>\n",
       "      <td>NaN</td>\n",
       "    </tr>\n",
       "    <tr>\n",
       "      <th>1</th>\n",
       "      <td>AFG</td>\n",
       "      <td>Asia</td>\n",
       "      <td>Afghanistan</td>\n",
       "      <td>2020-02-25</td>\n",
       "      <td>1.00</td>\n",
       "      <td>0.00</td>\n",
       "      <td>NaN</td>\n",
       "      <td>NaN</td>\n",
       "      <td>NaN</td>\n",
       "      <td>NaN</td>\n",
       "      <td>...</td>\n",
       "      <td>NaN</td>\n",
       "      <td>597.03</td>\n",
       "      <td>9.59</td>\n",
       "      <td>NaN</td>\n",
       "      <td>NaN</td>\n",
       "      <td>37.75</td>\n",
       "      <td>0.50</td>\n",
       "      <td>64.83</td>\n",
       "      <td>0.51</td>\n",
       "      <td>NaN</td>\n",
       "    </tr>\n",
       "    <tr>\n",
       "      <th>2</th>\n",
       "      <td>AFG</td>\n",
       "      <td>Asia</td>\n",
       "      <td>Afghanistan</td>\n",
       "      <td>2020-02-26</td>\n",
       "      <td>1.00</td>\n",
       "      <td>0.00</td>\n",
       "      <td>NaN</td>\n",
       "      <td>NaN</td>\n",
       "      <td>NaN</td>\n",
       "      <td>NaN</td>\n",
       "      <td>...</td>\n",
       "      <td>NaN</td>\n",
       "      <td>597.03</td>\n",
       "      <td>9.59</td>\n",
       "      <td>NaN</td>\n",
       "      <td>NaN</td>\n",
       "      <td>37.75</td>\n",
       "      <td>0.50</td>\n",
       "      <td>64.83</td>\n",
       "      <td>0.51</td>\n",
       "      <td>NaN</td>\n",
       "    </tr>\n",
       "    <tr>\n",
       "      <th>3</th>\n",
       "      <td>AFG</td>\n",
       "      <td>Asia</td>\n",
       "      <td>Afghanistan</td>\n",
       "      <td>2020-02-27</td>\n",
       "      <td>1.00</td>\n",
       "      <td>0.00</td>\n",
       "      <td>NaN</td>\n",
       "      <td>NaN</td>\n",
       "      <td>NaN</td>\n",
       "      <td>NaN</td>\n",
       "      <td>...</td>\n",
       "      <td>NaN</td>\n",
       "      <td>597.03</td>\n",
       "      <td>9.59</td>\n",
       "      <td>NaN</td>\n",
       "      <td>NaN</td>\n",
       "      <td>37.75</td>\n",
       "      <td>0.50</td>\n",
       "      <td>64.83</td>\n",
       "      <td>0.51</td>\n",
       "      <td>NaN</td>\n",
       "    </tr>\n",
       "    <tr>\n",
       "      <th>4</th>\n",
       "      <td>AFG</td>\n",
       "      <td>Asia</td>\n",
       "      <td>Afghanistan</td>\n",
       "      <td>2020-02-28</td>\n",
       "      <td>1.00</td>\n",
       "      <td>0.00</td>\n",
       "      <td>NaN</td>\n",
       "      <td>NaN</td>\n",
       "      <td>NaN</td>\n",
       "      <td>NaN</td>\n",
       "      <td>...</td>\n",
       "      <td>NaN</td>\n",
       "      <td>597.03</td>\n",
       "      <td>9.59</td>\n",
       "      <td>NaN</td>\n",
       "      <td>NaN</td>\n",
       "      <td>37.75</td>\n",
       "      <td>0.50</td>\n",
       "      <td>64.83</td>\n",
       "      <td>0.51</td>\n",
       "      <td>NaN</td>\n",
       "    </tr>\n",
       "  </tbody>\n",
       "</table>\n",
       "<p>5 rows × 60 columns</p>\n",
       "</div>"
      ],
      "text/plain": [
       "  iso_code continent     location        date  total_cases  new_cases  \\\n",
       "0      AFG      Asia  Afghanistan  2020-02-24         1.00       1.00   \n",
       "1      AFG      Asia  Afghanistan  2020-02-25         1.00       0.00   \n",
       "2      AFG      Asia  Afghanistan  2020-02-26         1.00       0.00   \n",
       "3      AFG      Asia  Afghanistan  2020-02-27         1.00       0.00   \n",
       "4      AFG      Asia  Afghanistan  2020-02-28         1.00       0.00   \n",
       "\n",
       "   new_cases_smoothed  total_deaths  new_deaths  new_deaths_smoothed  ...  \\\n",
       "0                 NaN           NaN         NaN                  NaN  ...   \n",
       "1                 NaN           NaN         NaN                  NaN  ...   \n",
       "2                 NaN           NaN         NaN                  NaN  ...   \n",
       "3                 NaN           NaN         NaN                  NaN  ...   \n",
       "4                 NaN           NaN         NaN                  NaN  ...   \n",
       "\n",
       "   extreme_poverty  cardiovasc_death_rate  diabetes_prevalence  \\\n",
       "0              NaN                 597.03                 9.59   \n",
       "1              NaN                 597.03                 9.59   \n",
       "2              NaN                 597.03                 9.59   \n",
       "3              NaN                 597.03                 9.59   \n",
       "4              NaN                 597.03                 9.59   \n",
       "\n",
       "   female_smokers  male_smokers  handwashing_facilities  \\\n",
       "0             NaN           NaN                   37.75   \n",
       "1             NaN           NaN                   37.75   \n",
       "2             NaN           NaN                   37.75   \n",
       "3             NaN           NaN                   37.75   \n",
       "4             NaN           NaN                   37.75   \n",
       "\n",
       "   hospital_beds_per_thousand  life_expectancy  human_development_index  \\\n",
       "0                        0.50            64.83                     0.51   \n",
       "1                        0.50            64.83                     0.51   \n",
       "2                        0.50            64.83                     0.51   \n",
       "3                        0.50            64.83                     0.51   \n",
       "4                        0.50            64.83                     0.51   \n",
       "\n",
       "   excess_mortality  \n",
       "0               NaN  \n",
       "1               NaN  \n",
       "2               NaN  \n",
       "3               NaN  \n",
       "4               NaN  \n",
       "\n",
       "[5 rows x 60 columns]"
      ]
     },
     "execution_count": 5,
     "metadata": {},
     "output_type": "execute_result"
    }
   ],
   "source": [
    "df.head()"
   ]
  },
  {
   "cell_type": "code",
   "execution_count": 6,
   "metadata": {},
   "outputs": [
    {
     "data": {
      "text/plain": [
       "0         2020-02-24\n",
       "1         2020-02-25\n",
       "2         2020-02-26\n",
       "3         2020-02-27\n",
       "4         2020-02-28\n",
       "             ...    \n",
       "103902    2021-07-16\n",
       "103903    2021-07-17\n",
       "103904    2021-07-18\n",
       "103905    2021-07-19\n",
       "103906    2021-07-20\n",
       "Name: date, Length: 103907, dtype: object"
      ]
     },
     "execution_count": 6,
     "metadata": {},
     "output_type": "execute_result"
    }
   ],
   "source": [
    "df.date"
   ]
  },
  {
   "cell_type": "code",
   "execution_count": 7,
   "metadata": {},
   "outputs": [],
   "source": [
    "df['date']=pd.to_datetime(df['date'],infer_datetime_format=True)"
   ]
  },
  {
   "cell_type": "code",
   "execution_count": 8,
   "metadata": {},
   "outputs": [
    {
     "data": {
      "text/plain": [
       "0   2020-02-24\n",
       "1   2020-02-25\n",
       "2   2020-02-26\n",
       "3   2020-02-27\n",
       "4   2020-02-28\n",
       "Name: date, dtype: datetime64[ns]"
      ]
     },
     "execution_count": 8,
     "metadata": {},
     "output_type": "execute_result"
    }
   ],
   "source": [
    "df['date'].head()"
   ]
  },
  {
   "cell_type": "code",
   "execution_count": 9,
   "metadata": {},
   "outputs": [],
   "source": [
    "df['date']=df['date'].dt.strftime('%Y/%m')"
   ]
  },
  {
   "cell_type": "code",
   "execution_count": 10,
   "metadata": {},
   "outputs": [
    {
     "data": {
      "text/plain": [
       "4840"
      ]
     },
     "execution_count": 10,
     "metadata": {},
     "output_type": "execute_result"
    }
   ],
   "source": [
    "df.continent.isna().sum()"
   ]
  },
  {
   "cell_type": "code",
   "execution_count": 11,
   "metadata": {},
   "outputs": [
    {
     "data": {
      "text/plain": [
       "array(['Asia', nan, 'Europe', 'Africa', 'North America', 'South America',\n",
       "       'Oceania'], dtype=object)"
      ]
     },
     "execution_count": 11,
     "metadata": {},
     "output_type": "execute_result"
    }
   ],
   "source": [
    "df.continent.unique()"
   ]
  },
  {
   "cell_type": "code",
   "execution_count": 12,
   "metadata": {},
   "outputs": [
    {
     "data": {
      "text/plain": [
       "0"
      ]
     },
     "execution_count": 12,
     "metadata": {},
     "output_type": "execute_result"
    }
   ],
   "source": [
    "df.location.isna().sum()"
   ]
  },
  {
   "cell_type": "code",
   "execution_count": 13,
   "metadata": {},
   "outputs": [],
   "source": [
    "df.fillna(0,inplace=True)"
   ]
  },
  {
   "cell_type": "code",
   "execution_count": 14,
   "metadata": {},
   "outputs": [
    {
     "data": {
      "text/plain": [
       "4840"
      ]
     },
     "execution_count": 14,
     "metadata": {},
     "output_type": "execute_result"
    }
   ],
   "source": [
    "(df['continent']==0).sum()"
   ]
  },
  {
   "cell_type": "code",
   "execution_count": 15,
   "metadata": {},
   "outputs": [],
   "source": [
    "df.drop(df[df['continent']==0].index.tolist(),inplace=True)"
   ]
  },
  {
   "cell_type": "code",
   "execution_count": 16,
   "metadata": {},
   "outputs": [
    {
     "data": {
      "text/plain": [
       "0"
      ]
     },
     "execution_count": 16,
     "metadata": {},
     "output_type": "execute_result"
    }
   ],
   "source": [
    "(df['location']==0).sum()"
   ]
  },
  {
   "cell_type": "code",
   "execution_count": 17,
   "metadata": {},
   "outputs": [],
   "source": [
    "new_df=df.groupby(['date','continent','location']).sum().reset_index()"
   ]
  },
  {
   "cell_type": "code",
   "execution_count": 18,
   "metadata": {},
   "outputs": [
    {
     "data": {
      "text/html": [
       "<div>\n",
       "<style scoped>\n",
       "    .dataframe tbody tr th:only-of-type {\n",
       "        vertical-align: middle;\n",
       "    }\n",
       "\n",
       "    .dataframe tbody tr th {\n",
       "        vertical-align: top;\n",
       "    }\n",
       "\n",
       "    .dataframe thead th {\n",
       "        text-align: right;\n",
       "    }\n",
       "</style>\n",
       "<table border=\"1\" class=\"dataframe\">\n",
       "  <thead>\n",
       "    <tr style=\"text-align: right;\">\n",
       "      <th></th>\n",
       "      <th>date</th>\n",
       "      <th>continent</th>\n",
       "      <th>location</th>\n",
       "      <th>total_cases</th>\n",
       "      <th>new_cases</th>\n",
       "      <th>new_cases_smoothed</th>\n",
       "      <th>total_deaths</th>\n",
       "      <th>new_deaths</th>\n",
       "      <th>new_deaths_smoothed</th>\n",
       "      <th>total_cases_per_million</th>\n",
       "      <th>...</th>\n",
       "      <th>extreme_poverty</th>\n",
       "      <th>cardiovasc_death_rate</th>\n",
       "      <th>diabetes_prevalence</th>\n",
       "      <th>female_smokers</th>\n",
       "      <th>male_smokers</th>\n",
       "      <th>handwashing_facilities</th>\n",
       "      <th>hospital_beds_per_thousand</th>\n",
       "      <th>life_expectancy</th>\n",
       "      <th>human_development_index</th>\n",
       "      <th>excess_mortality</th>\n",
       "    </tr>\n",
       "  </thead>\n",
       "  <tbody>\n",
       "    <tr>\n",
       "      <th>0</th>\n",
       "      <td>2020/01</td>\n",
       "      <td>Asia</td>\n",
       "      <td>Cambodia</td>\n",
       "      <td>5.00</td>\n",
       "      <td>1.00</td>\n",
       "      <td>0.00</td>\n",
       "      <td>0.00</td>\n",
       "      <td>0.00</td>\n",
       "      <td>0.00</td>\n",
       "      <td>0.30</td>\n",
       "      <td>...</td>\n",
       "      <td>0.00</td>\n",
       "      <td>1354.46</td>\n",
       "      <td>20.00</td>\n",
       "      <td>10.00</td>\n",
       "      <td>168.50</td>\n",
       "      <td>331.14</td>\n",
       "      <td>4.00</td>\n",
       "      <td>349.10</td>\n",
       "      <td>2.97</td>\n",
       "      <td>0.00</td>\n",
       "    </tr>\n",
       "    <tr>\n",
       "      <th>1</th>\n",
       "      <td>2020/01</td>\n",
       "      <td>Asia</td>\n",
       "      <td>China</td>\n",
       "      <td>37943.00</td>\n",
       "      <td>9242.00</td>\n",
       "      <td>3834.86</td>\n",
       "      <td>889.00</td>\n",
       "      <td>196.00</td>\n",
       "      <td>81.43</td>\n",
       "      <td>26.36</td>\n",
       "      <td>...</td>\n",
       "      <td>7.00</td>\n",
       "      <td>2618.99</td>\n",
       "      <td>97.40</td>\n",
       "      <td>19.00</td>\n",
       "      <td>484.00</td>\n",
       "      <td>0.00</td>\n",
       "      <td>43.40</td>\n",
       "      <td>769.10</td>\n",
       "      <td>7.61</td>\n",
       "      <td>0.00</td>\n",
       "    </tr>\n",
       "    <tr>\n",
       "      <th>2</th>\n",
       "      <td>2020/01</td>\n",
       "      <td>Asia</td>\n",
       "      <td>Hong Kong</td>\n",
       "      <td>65.00</td>\n",
       "      <td>12.00</td>\n",
       "      <td>5.14</td>\n",
       "      <td>0.00</td>\n",
       "      <td>0.00</td>\n",
       "      <td>0.00</td>\n",
       "      <td>8.67</td>\n",
       "      <td>...</td>\n",
       "      <td>0.00</td>\n",
       "      <td>0.00</td>\n",
       "      <td>74.97</td>\n",
       "      <td>0.00</td>\n",
       "      <td>0.00</td>\n",
       "      <td>0.00</td>\n",
       "      <td>0.00</td>\n",
       "      <td>763.74</td>\n",
       "      <td>8.54</td>\n",
       "      <td>-4.95</td>\n",
       "    </tr>\n",
       "    <tr>\n",
       "      <th>3</th>\n",
       "      <td>2020/01</td>\n",
       "      <td>Asia</td>\n",
       "      <td>India</td>\n",
       "      <td>2.00</td>\n",
       "      <td>1.00</td>\n",
       "      <td>0.00</td>\n",
       "      <td>0.00</td>\n",
       "      <td>0.00</td>\n",
       "      <td>0.00</td>\n",
       "      <td>0.00</td>\n",
       "      <td>...</td>\n",
       "      <td>42.40</td>\n",
       "      <td>564.56</td>\n",
       "      <td>20.78</td>\n",
       "      <td>3.80</td>\n",
       "      <td>41.20</td>\n",
       "      <td>119.10</td>\n",
       "      <td>1.06</td>\n",
       "      <td>139.32</td>\n",
       "      <td>1.29</td>\n",
       "      <td>0.00</td>\n",
       "    </tr>\n",
       "    <tr>\n",
       "      <th>4</th>\n",
       "      <td>2020/01</td>\n",
       "      <td>Asia</td>\n",
       "      <td>Japan</td>\n",
       "      <td>56.00</td>\n",
       "      <td>13.00</td>\n",
       "      <td>4.57</td>\n",
       "      <td>0.00</td>\n",
       "      <td>0.00</td>\n",
       "      <td>0.00</td>\n",
       "      <td>0.44</td>\n",
       "      <td>...</td>\n",
       "      <td>0.00</td>\n",
       "      <td>793.70</td>\n",
       "      <td>57.20</td>\n",
       "      <td>112.00</td>\n",
       "      <td>337.00</td>\n",
       "      <td>0.00</td>\n",
       "      <td>130.50</td>\n",
       "      <td>846.30</td>\n",
       "      <td>9.19</td>\n",
       "      <td>-1.19</td>\n",
       "    </tr>\n",
       "    <tr>\n",
       "      <th>...</th>\n",
       "      <td>...</td>\n",
       "      <td>...</td>\n",
       "      <td>...</td>\n",
       "      <td>...</td>\n",
       "      <td>...</td>\n",
       "      <td>...</td>\n",
       "      <td>...</td>\n",
       "      <td>...</td>\n",
       "      <td>...</td>\n",
       "      <td>...</td>\n",
       "      <td>...</td>\n",
       "      <td>...</td>\n",
       "      <td>...</td>\n",
       "      <td>...</td>\n",
       "      <td>...</td>\n",
       "      <td>...</td>\n",
       "      <td>...</td>\n",
       "      <td>...</td>\n",
       "      <td>...</td>\n",
       "      <td>...</td>\n",
       "      <td>...</td>\n",
       "    </tr>\n",
       "    <tr>\n",
       "      <th>3451</th>\n",
       "      <td>2021/07</td>\n",
       "      <td>South America</td>\n",
       "      <td>Paraguay</td>\n",
       "      <td>8732335.00</td>\n",
       "      <td>22985.00</td>\n",
       "      <td>25615.28</td>\n",
       "      <td>276286.00</td>\n",
       "      <td>1499.00</td>\n",
       "      <td>1734.00</td>\n",
       "      <td>1224296.99</td>\n",
       "      <td>...</td>\n",
       "      <td>34.00</td>\n",
       "      <td>3982.56</td>\n",
       "      <td>165.40</td>\n",
       "      <td>100.00</td>\n",
       "      <td>432.00</td>\n",
       "      <td>1592.04</td>\n",
       "      <td>26.00</td>\n",
       "      <td>1485.00</td>\n",
       "      <td>14.56</td>\n",
       "      <td>0.00</td>\n",
       "    </tr>\n",
       "    <tr>\n",
       "      <th>3452</th>\n",
       "      <td>2021/07</td>\n",
       "      <td>South America</td>\n",
       "      <td>Peru</td>\n",
       "      <td>41555569.00</td>\n",
       "      <td>42380.00</td>\n",
       "      <td>45716.57</td>\n",
       "      <td>3881652.00</td>\n",
       "      <td>2912.00</td>\n",
       "      <td>3347.43</td>\n",
       "      <td>1260334.92</td>\n",
       "      <td>...</td>\n",
       "      <td>70.00</td>\n",
       "      <td>1715.10</td>\n",
       "      <td>119.00</td>\n",
       "      <td>96.00</td>\n",
       "      <td>0.00</td>\n",
       "      <td>0.00</td>\n",
       "      <td>32.00</td>\n",
       "      <td>1534.80</td>\n",
       "      <td>15.54</td>\n",
       "      <td>123.09</td>\n",
       "    </tr>\n",
       "    <tr>\n",
       "      <th>3453</th>\n",
       "      <td>2021/07</td>\n",
       "      <td>South America</td>\n",
       "      <td>Suriname</td>\n",
       "      <td>465142.00</td>\n",
       "      <td>2703.00</td>\n",
       "      <td>2896.14</td>\n",
       "      <td>11542.00</td>\n",
       "      <td>98.00</td>\n",
       "      <td>102.57</td>\n",
       "      <td>792899.83</td>\n",
       "      <td>...</td>\n",
       "      <td>0.00</td>\n",
       "      <td>5166.28</td>\n",
       "      <td>250.80</td>\n",
       "      <td>148.00</td>\n",
       "      <td>858.00</td>\n",
       "      <td>1355.58</td>\n",
       "      <td>62.00</td>\n",
       "      <td>1433.60</td>\n",
       "      <td>14.76</td>\n",
       "      <td>0.00</td>\n",
       "    </tr>\n",
       "    <tr>\n",
       "      <th>3454</th>\n",
       "      <td>2021/07</td>\n",
       "      <td>South America</td>\n",
       "      <td>Uruguay</td>\n",
       "      <td>7517388.00</td>\n",
       "      <td>10026.00</td>\n",
       "      <td>12791.29</td>\n",
       "      <td>115820.00</td>\n",
       "      <td>303.00</td>\n",
       "      <td>376.28</td>\n",
       "      <td>2164069.89</td>\n",
       "      <td>...</td>\n",
       "      <td>2.00</td>\n",
       "      <td>3214.16</td>\n",
       "      <td>138.60</td>\n",
       "      <td>280.00</td>\n",
       "      <td>398.00</td>\n",
       "      <td>0.00</td>\n",
       "      <td>56.00</td>\n",
       "      <td>1558.20</td>\n",
       "      <td>16.34</td>\n",
       "      <td>0.00</td>\n",
       "    </tr>\n",
       "    <tr>\n",
       "      <th>3455</th>\n",
       "      <td>2021/07</td>\n",
       "      <td>South America</td>\n",
       "      <td>Venezuela</td>\n",
       "      <td>5688160.00</td>\n",
       "      <td>21154.00</td>\n",
       "      <td>22376.15</td>\n",
       "      <td>65552.00</td>\n",
       "      <td>273.00</td>\n",
       "      <td>297.71</td>\n",
       "      <td>200034.16</td>\n",
       "      <td>...</td>\n",
       "      <td>0.00</td>\n",
       "      <td>4097.00</td>\n",
       "      <td>129.40</td>\n",
       "      <td>0.00</td>\n",
       "      <td>0.00</td>\n",
       "      <td>0.00</td>\n",
       "      <td>16.00</td>\n",
       "      <td>1441.20</td>\n",
       "      <td>14.22</td>\n",
       "      <td>0.00</td>\n",
       "    </tr>\n",
       "  </tbody>\n",
       "</table>\n",
       "<p>3456 rows × 58 columns</p>\n",
       "</div>"
      ],
      "text/plain": [
       "         date      continent   location  total_cases  new_cases  \\\n",
       "0     2020/01           Asia   Cambodia         5.00       1.00   \n",
       "1     2020/01           Asia      China     37943.00    9242.00   \n",
       "2     2020/01           Asia  Hong Kong        65.00      12.00   \n",
       "3     2020/01           Asia      India         2.00       1.00   \n",
       "4     2020/01           Asia      Japan        56.00      13.00   \n",
       "...       ...            ...        ...          ...        ...   \n",
       "3451  2021/07  South America   Paraguay   8732335.00   22985.00   \n",
       "3452  2021/07  South America       Peru  41555569.00   42380.00   \n",
       "3453  2021/07  South America   Suriname    465142.00    2703.00   \n",
       "3454  2021/07  South America    Uruguay   7517388.00   10026.00   \n",
       "3455  2021/07  South America  Venezuela   5688160.00   21154.00   \n",
       "\n",
       "      new_cases_smoothed  total_deaths  new_deaths  new_deaths_smoothed  \\\n",
       "0                   0.00          0.00        0.00                 0.00   \n",
       "1                3834.86        889.00      196.00                81.43   \n",
       "2                   5.14          0.00        0.00                 0.00   \n",
       "3                   0.00          0.00        0.00                 0.00   \n",
       "4                   4.57          0.00        0.00                 0.00   \n",
       "...                  ...           ...         ...                  ...   \n",
       "3451            25615.28     276286.00     1499.00              1734.00   \n",
       "3452            45716.57    3881652.00     2912.00              3347.43   \n",
       "3453             2896.14      11542.00       98.00               102.57   \n",
       "3454            12791.29     115820.00      303.00               376.28   \n",
       "3455            22376.15      65552.00      273.00               297.71   \n",
       "\n",
       "      total_cases_per_million  ...  extreme_poverty  cardiovasc_death_rate  \\\n",
       "0                        0.30  ...             0.00                1354.46   \n",
       "1                       26.36  ...             7.00                2618.99   \n",
       "2                        8.67  ...             0.00                   0.00   \n",
       "3                        0.00  ...            42.40                 564.56   \n",
       "4                        0.44  ...             0.00                 793.70   \n",
       "...                       ...  ...              ...                    ...   \n",
       "3451               1224296.99  ...            34.00                3982.56   \n",
       "3452               1260334.92  ...            70.00                1715.10   \n",
       "3453                792899.83  ...             0.00                5166.28   \n",
       "3454               2164069.89  ...             2.00                3214.16   \n",
       "3455                200034.16  ...             0.00                4097.00   \n",
       "\n",
       "      diabetes_prevalence  female_smokers  male_smokers  \\\n",
       "0                   20.00           10.00        168.50   \n",
       "1                   97.40           19.00        484.00   \n",
       "2                   74.97            0.00          0.00   \n",
       "3                   20.78            3.80         41.20   \n",
       "4                   57.20          112.00        337.00   \n",
       "...                   ...             ...           ...   \n",
       "3451               165.40          100.00        432.00   \n",
       "3452               119.00           96.00          0.00   \n",
       "3453               250.80          148.00        858.00   \n",
       "3454               138.60          280.00        398.00   \n",
       "3455               129.40            0.00          0.00   \n",
       "\n",
       "      handwashing_facilities  hospital_beds_per_thousand  life_expectancy  \\\n",
       "0                     331.14                        4.00           349.10   \n",
       "1                       0.00                       43.40           769.10   \n",
       "2                       0.00                        0.00           763.74   \n",
       "3                     119.10                        1.06           139.32   \n",
       "4                       0.00                      130.50           846.30   \n",
       "...                      ...                         ...              ...   \n",
       "3451                 1592.04                       26.00          1485.00   \n",
       "3452                    0.00                       32.00          1534.80   \n",
       "3453                 1355.58                       62.00          1433.60   \n",
       "3454                    0.00                       56.00          1558.20   \n",
       "3455                    0.00                       16.00          1441.20   \n",
       "\n",
       "      human_development_index  excess_mortality  \n",
       "0                        2.97              0.00  \n",
       "1                        7.61              0.00  \n",
       "2                        8.54             -4.95  \n",
       "3                        1.29              0.00  \n",
       "4                        9.19             -1.19  \n",
       "...                       ...               ...  \n",
       "3451                    14.56              0.00  \n",
       "3452                    15.54            123.09  \n",
       "3453                    14.76              0.00  \n",
       "3454                    16.34              0.00  \n",
       "3455                    14.22              0.00  \n",
       "\n",
       "[3456 rows x 58 columns]"
      ]
     },
     "execution_count": 18,
     "metadata": {},
     "output_type": "execute_result"
    }
   ],
   "source": [
    "new_df"
   ]
  },
  {
   "cell_type": "code",
   "execution_count": 19,
   "metadata": {},
   "outputs": [
    {
     "data": {
      "text/plain": [
       "{'Asia': None,\n",
       " 'Europe': None,\n",
       " 'North America': None,\n",
       " 'Oceania': None,\n",
       " 'South America': None,\n",
       " 'Africa': None}"
      ]
     },
     "execution_count": 19,
     "metadata": {},
     "output_type": "execute_result"
    }
   ],
   "source": [
    "continent_data=dict.fromkeys(new_df.continent.unique().tolist())\n",
    "continent_data"
   ]
  },
  {
   "cell_type": "code",
   "execution_count": 20,
   "metadata": {},
   "outputs": [],
   "source": [
    "for i in new_df.continent.unique().tolist():\n",
    "     continent_data[i]=new_df[new_df['continent']==i]        \n",
    "\n",
    "    "
   ]
  },
  {
   "cell_type": "code",
   "execution_count": 21,
   "metadata": {},
   "outputs": [],
   "source": [
    "for i in new_df.continent.unique().tolist():\n",
    "    continent_data[i].to_excel(f'{str(i)} Data.xlsx')"
   ]
  },
  {
   "cell_type": "code",
   "execution_count": 22,
   "metadata": {},
   "outputs": [
    {
     "data": {
      "text/plain": [
       "dict_keys(['Asia', 'Europe', 'North America', 'Oceania', 'South America', 'Africa'])"
      ]
     },
     "execution_count": 22,
     "metadata": {},
     "output_type": "execute_result"
    }
   ],
   "source": [
    "continent_data.keys()"
   ]
  },
  {
   "cell_type": "code",
   "execution_count": null,
   "metadata": {},
   "outputs": [],
   "source": []
  },
  {
   "cell_type": "code",
   "execution_count": null,
   "metadata": {},
   "outputs": [],
   "source": []
  },
  {
   "cell_type": "code",
   "execution_count": null,
   "metadata": {},
   "outputs": [],
   "source": []
  }
 ],
 "metadata": {
  "kernelspec": {
   "display_name": "Python 3",
   "language": "python",
   "name": "python3"
  },
  "language_info": {
   "codemirror_mode": {
    "name": "ipython",
    "version": 3
   },
   "file_extension": ".py",
   "mimetype": "text/x-python",
   "name": "python",
   "nbconvert_exporter": "python",
   "pygments_lexer": "ipython3",
   "version": "3.8.5"
  }
 },
 "nbformat": 4,
 "nbformat_minor": 4
}
